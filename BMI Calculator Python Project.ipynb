{
 "cells": [
  {
   "cell_type": "markdown",
   "id": "aaa99d35",
   "metadata": {},
   "source": [
    "# BMI Calculator"
   ]
  },
  {
   "cell_type": "code",
   "execution_count": 27,
   "id": "bd8401c3",
   "metadata": {},
   "outputs": [
    {
     "name": "stdout",
     "output_type": "stream",
     "text": [
      "Enter your name: Imane\n",
      "Enter your weight in pounds: 105\n",
      "Enter your height in inches: 55\n",
      "Your BMI is:  24.401652892561984\n"
     ]
    }
   ],
   "source": [
    "name=input(\"Enter your name: \")\n",
    "weight= input(\"Enter your weight in pounds: \")\n",
    "height= input(\"Enter your height in inches: \")\n",
    "BMI=(int(weight)*703)/(int(height)*int(height))\n",
    "print('Your BMI is: ', BMI)\n"
   ]
  },
  {
   "cell_type": "code",
   "execution_count": 28,
   "id": "353efbc9",
   "metadata": {},
   "outputs": [
    {
     "name": "stdout",
     "output_type": "stream",
     "text": [
      "Imane, you are normal weight.\n"
     ]
    }
   ],
   "source": [
    "if BMI>0:\n",
    "    if BMI<18.5:\n",
    "        print(name+', you are underweight.')\n",
    "    elif BMI<=24.9:\n",
    "        print(name+', you are normal weight.')\n",
    "    elif BMI<=29.9:\n",
    "        print(name+', you are overweight.')\n",
    "    elif BMI<=34.9:\n",
    "        print(name+', you are obese.')\n",
    "    elif BMI<=39.9:\n",
    "        print(name+', you are severely obese.')\n",
    "    else:\n",
    "        print(name+', you are morbidly obese.')\n",
    "else:\n",
    "    print(\"Enter valid input, please.\")"
   ]
  },
  {
   "cell_type": "code",
   "execution_count": null,
   "id": "db219601",
   "metadata": {},
   "outputs": [],
   "source": []
  }
 ],
 "metadata": {
  "kernelspec": {
   "display_name": "Python 3 (ipykernel)",
   "language": "python",
   "name": "python3"
  },
  "language_info": {
   "codemirror_mode": {
    "name": "ipython",
    "version": 3
   },
   "file_extension": ".py",
   "mimetype": "text/x-python",
   "name": "python",
   "nbconvert_exporter": "python",
   "pygments_lexer": "ipython3",
   "version": "3.11.5"
  }
 },
 "nbformat": 4,
 "nbformat_minor": 5
}
