{
 "cells": [
  {
   "cell_type": "markdown",
   "id": "ced8bd47",
   "metadata": {},
   "source": [
    "# Automatic File Sorter in File Explorer"
   ]
  },
  {
   "cell_type": "code",
   "execution_count": 27,
   "id": "b53b9bce",
   "metadata": {},
   "outputs": [],
   "source": [
    "import os, shutil"
   ]
  },
  {
   "cell_type": "code",
   "execution_count": 28,
   "id": "13d7c42b",
   "metadata": {},
   "outputs": [],
   "source": [
    "path= r\"C:\\Users\\LENOVO\\Downloads\\Python project 2/\""
   ]
  },
  {
   "cell_type": "code",
   "execution_count": 29,
   "id": "82a6d8a3",
   "metadata": {},
   "outputs": [],
   "source": [
    "file_name=os.listdir(path)"
   ]
  },
  {
   "cell_type": "code",
   "execution_count": 35,
   "id": "24c52254",
   "metadata": {},
   "outputs": [],
   "source": [
    "folder_names=['csv files','image files','pdf files']\n",
    "\n",
    "for loop in range (0,3):\n",
    "    if not os.path.exists(path+folder_names[loop]):\n",
    "        print(path+folder_names[loop])\n",
    "        os.makedirs(path+folder_names[loop])\n",
    "        \n",
    "for file in file_name:\n",
    "    if \".csv\" in file and not os.path.exists(path+\"csv files/\"+ file):\n",
    "        shutil.move(path+ file,path+\"csv files/\"+ file)\n",
    "    elif \".png\" in file and not os.path.exists(path+\"image files/\"+ file):\n",
    "        shutil.move(path+ file,path+\"image files/\"+ file)\n",
    "    elif \".jpg\" in file and not os.path.exists(path+\"image files/\"+ file):\n",
    "        shutil.move(path+ file,path+\"image files/\"+ file)\n",
    "    elif \".pdf\" in file and not os.path.exists(path+\"pdf files/\"+ file):\n",
    "        shutil.move(path+ file,path+\"pdf files/\"+ file)"
   ]
  },
  {
   "cell_type": "code",
   "execution_count": null,
   "id": "24254d9b",
   "metadata": {},
   "outputs": [],
   "source": []
  }
 ],
 "metadata": {
  "kernelspec": {
   "display_name": "Python 3 (ipykernel)",
   "language": "python",
   "name": "python3"
  },
  "language_info": {
   "codemirror_mode": {
    "name": "ipython",
    "version": 3
   },
   "file_extension": ".py",
   "mimetype": "text/x-python",
   "name": "python",
   "nbconvert_exporter": "python",
   "pygments_lexer": "ipython3",
   "version": "3.11.5"
  }
 },
 "nbformat": 4,
 "nbformat_minor": 5
}
